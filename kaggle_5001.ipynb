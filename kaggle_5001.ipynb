{
 "cells": [
  {
   "cell_type": "markdown",
   "metadata": {
    "id": "O_xG1HRWrV00"
   },
   "source": [
    "#read the file"
   ]
  },
  {
   "cell_type": "code",
   "execution_count": null,
   "metadata": {
    "id": "wmiwovd3bj7_"
   },
   "outputs": [],
   "source": [
    "import pandas as pd\n",
    "df = pd.read_csv(\"/content/train.csv\",parse_dates=['date'])#read the train dataset, remember change the path\n",
    "dftest = pd.read_csv(\"/content/test.csv\", parse_dates=['date'])#read the test dataset"
   ]
  },
  {
   "cell_type": "markdown",
   "metadata": {
    "id": "lug85DlHrbSy"
   },
   "source": [
    "#extract data & add dayofweek\n"
   ]
  },
  {
   "cell_type": "code",
   "execution_count": null,
   "metadata": {
    "colab": {
     "base_uri": "https://localhost:8080/"
    },
    "id": "h6Wg8bCEdMB6",
    "outputId": "7c08e7d8-504d-4c68-f844-363a21f53221"
   },
   "outputs": [
    {
     "name": "stdout",
     "output_type": "stream",
     "text": [
      "   id                date      speed  ...  date_day  date_hour  dayofweek\n",
      "0   0 2017-01-01 00:00:00  43.002930  ...         1          0          6\n",
      "1   1 2017-01-01 01:00:00  46.118696  ...         1          1          6\n",
      "2   2 2017-01-01 02:00:00  44.294158  ...         1          2          6\n",
      "3   3 2017-01-01 03:00:00  41.067468  ...         1          3          6\n",
      "4   4 2017-01-01 04:00:00  46.448653  ...         1          4          6\n",
      "\n",
      "[5 rows x 8 columns]\n",
      "   id                date  date_year  ...  date_day  date_hour  dayofweek\n",
      "0   0 2018-01-01 02:00:00       2018  ...         1          2          0\n",
      "1   1 2018-01-01 05:00:00       2018  ...         1          5          0\n",
      "2   2 2018-01-01 07:00:00       2018  ...         1          7          0\n",
      "3   3 2018-01-01 08:00:00       2018  ...         1          8          0\n",
      "4   4 2018-01-01 10:00:00       2018  ...         1         10          0\n",
      "\n",
      "[5 rows x 7 columns]\n"
     ]
    }
   ],
   "source": [
    "def extract_date(df, column):\n",
    "    df[column+'_year'] = df[column].apply(lambda x: x.year)\n",
    "    df[column+'_month'] = df[column].apply(lambda x: x.month)\n",
    "    df[column+'_day'] = df[column].apply(lambda x: x.day)\n",
    "    df[column+'_hour'] = df[column].apply(lambda x: x.hour)\n",
    "    \n",
    "extract_date(df, 'date')#extract the date of train dataset\n",
    "extract_date(dftest,'date')#extract the date of test dataset\n",
    "\n",
    "df['dayofweek']=df['date'].dt.dayofweek#add the new column 'dayofweek'\n",
    "dftest['dayofweek']=dftest['date'].dt.dayofweek#add the new column 'dayofweek'\n",
    "print(df.head())\n",
    "print(dftest.head())#take a look of the extract_data"
   ]
  },
  {
   "cell_type": "markdown",
   "metadata": {
    "id": "7cR1zk2NrrAF"
   },
   "source": [
    "#RandomForest Regression"
   ]
  },
  {
   "cell_type": "code",
   "execution_count": null,
   "metadata": {
    "id": "bj0krL86dSza"
   },
   "outputs": [],
   "source": [
    "#RandomForest\n",
    "import numpy as np\n",
    "\n",
    "X_train = df.iloc[:, 3:].values\n",
    "y_train = df.iloc[:, 2].values\n",
    "X_test = dftest.iloc[:, 2:].values\n",
    "\n",
    "from sklearn.preprocessing import StandardScaler\n",
    "\n",
    "sc = StandardScaler()\n",
    "X_train = sc.fit_transform(X_train)\n",
    "X_test = sc.transform(X_test)\n",
    "\n",
    "from sklearn.ensemble import RandomForestRegressor\n",
    "regressor = RandomForestRegressor(n_estimators=200,random_state=0)\n",
    "regressor.fit(X_train, y_train)\n",
    "y_pred = regressor.predict(X_test)#the prediction of speed of the test dataset"
   ]
  },
  {
   "cell_type": "code",
   "execution_count": null,
   "metadata": {
    "id": "yIGwIA30dX2n"
   },
   "outputs": [],
   "source": [
    "dftest['pred_speed'] = y_pred\n",
    "\n",
    "df_sub = pd.DataFrame({'id':dftest['id'].values, 'speed':dftest['pred_speed'].values})\n",
    "df_sub.to_csv('result.csv', index=False)#write the result to the result.csv"
   ]
  }
 ],
 "metadata": {
  "colab": {
   "name": "kaggle_5001",
   "provenance": [],
   "toc_visible": true
  },
  "kernelspec": {
   "display_name": "Python 3",
   "language": "python",
   "name": "python3"
  },
  "language_info": {
   "codemirror_mode": {
    "name": "ipython",
    "version": 3
   },
   "file_extension": ".py",
   "mimetype": "text/x-python",
   "name": "python",
   "nbconvert_exporter": "python",
   "pygments_lexer": "ipython3",
   "version": "3.8.3"
  }
 },
 "nbformat": 4,
 "nbformat_minor": 1
}
